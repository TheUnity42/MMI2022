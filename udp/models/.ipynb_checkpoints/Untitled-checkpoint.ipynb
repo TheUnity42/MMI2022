{
 "cells": [
  {
   "cell_type": "code",
   "execution_count": null,
   "id": "124086e9-1dca-41b7-8b5d-045a3d57deaa",
   "metadata": {},
   "outputs": [],
   "source": [
    "import numpy as np\n",
    "import pandas as pd\n",
    "from sklearn.linear_model import LogisticRegression"
   ]
  },
  {
   "cell_type": "code",
   "execution_count": null,
   "id": "3fbe6975-81f9-47ef-955c-60fd4a1dd9de",
   "metadata": {},
   "outputs": [],
   "source": [
    "df = pd.read_csv('../claw-data-Mar22.csv', header=None)\n",
    "df.columns = [\"timestamp\", \"s0\", \"s1\", \"s2\", \"label\"]"
   ]
  },
  {
   "cell_type": "code",
   "execution_count": null,
   "id": "683b9074-7672-46a6-a0ca-085689bcb093",
   "metadata": {},
   "outputs": [],
   "source": [
    "df.head()"
   ]
  },
  {
   "cell_type": "code",
   "execution_count": null,
   "id": "a1ecb902-a7cf-41c4-9d74-92f576cd5800",
   "metadata": {},
   "outputs": [],
   "source": [
    "len(df)"
   ]
  },
  {
   "cell_type": "code",
   "execution_count": null,
   "id": "f1a71fd9-9641-4e7e-a236-9b3bc4e40eba",
   "metadata": {},
   "outputs": [],
   "source": [
    "df[['s0', 's1', 's2']][1:1+5].to_numpy()"
   ]
  },
  {
   "cell_type": "code",
   "execution_count": null,
   "id": "3a8c8433-457d-4287-9d19-f2d46f2ab03f",
   "metadata": {},
   "outputs": [],
   "source": [
    "data = []\n",
    "labels = []\n",
    "\n",
    "window = 15\n",
    "\n",
    "for i in range(len(df)-window):\n",
    "    data.append(df[['s0', 's1', 's2']][i:i+window].to_numpy().reshape(-1))\n",
    "    labels.append(df['label'][i:i+1].to_numpy())\n",
    "    \n",
    "data = np.array(data)\n",
    "labels = np.array(labels).ravel()"
   ]
  },
  {
   "cell_type": "code",
   "execution_count": null,
   "id": "377f7b55-bf25-4560-b2e3-2151988e1cf3",
   "metadata": {},
   "outputs": [],
   "source": [
    "train_data = data[:-20]\n",
    "test_data = data[-20:]\n",
    "train_labels = labels[:-20]\n",
    "test_labels = labels[-20:]"
   ]
  },
  {
   "cell_type": "code",
   "execution_count": null,
   "id": "ef7fcb41-7bfb-4cb4-bd31-9674c650105a",
   "metadata": {},
   "outputs": [],
   "source": [
    "train_labels.shape"
   ]
  },
  {
   "cell_type": "code",
   "execution_count": null,
   "id": "85da5d4a-27c1-43ed-9a11-e5e5628edccb",
   "metadata": {},
   "outputs": [],
   "source": [
    "logistic = LogisticRegression(random_state=0)\n",
    "logistic = logistic.fit(train_data, train_labels)"
   ]
  },
  {
   "cell_type": "code",
   "execution_count": null,
   "id": "53230dfb-cf03-4456-91c5-7389caf8780e",
   "metadata": {},
   "outputs": [],
   "source": [
    "logistic.score(train_data, train_labels)"
   ]
  },
  {
   "cell_type": "code",
   "execution_count": null,
   "id": "2a9d5062-997e-4246-b2dc-d9c9ba55cabc",
   "metadata": {},
   "outputs": [],
   "source": [
    "logistic.score(test_data, test_labels)"
   ]
  }
 ],
 "metadata": {
  "kernelspec": {
   "display_name": "Python 3 (ipykernel)",
   "language": "python",
   "name": "python3"
  },
  "language_info": {
   "codemirror_mode": {
    "name": "ipython",
    "version": 3
   },
   "file_extension": ".py",
   "mimetype": "text/x-python",
   "name": "python",
   "nbconvert_exporter": "python",
   "pygments_lexer": "ipython3",
   "version": "3.10.4"
  }
 },
 "nbformat": 4,
 "nbformat_minor": 5
}
