{
 "cells": [
  {
   "cell_type": "code",
   "execution_count": 24,
   "id": "124086e9-1dca-41b7-8b5d-045a3d57deaa",
   "metadata": {},
   "outputs": [],
   "source": [
    "import numpy as np\n",
    "import pandas as pd\n",
    "from sklearn.linear_model import LogisticRegression\n",
    "from sklearn.model_selection import train_test_split\n",
    "from sklearn.model_selection import cross_val_score\n",
    "import torch\n",
    "import torch.nn as nn\n",
    "from tqdm import tqdm"
   ]
  },
  {
   "cell_type": "code",
   "execution_count": 43,
   "id": "3fbe6975-81f9-47ef-955c-60fd4a1dd9de",
   "metadata": {},
   "outputs": [],
   "source": [
    "df = pd.read_csv('../claw-data-Mar22.csv', header=None)\n",
    "df.columns = [\"timestamp\", \"s0\", \"s1\", \"s2\", \"label\"]"
   ]
  },
  {
   "cell_type": "code",
   "execution_count": 44,
   "id": "683b9074-7672-46a6-a0ca-085689bcb093",
   "metadata": {},
   "outputs": [
    {
     "data": {
      "text/html": [
       "<div>\n",
       "<style scoped>\n",
       "    .dataframe tbody tr th:only-of-type {\n",
       "        vertical-align: middle;\n",
       "    }\n",
       "\n",
       "    .dataframe tbody tr th {\n",
       "        vertical-align: top;\n",
       "    }\n",
       "\n",
       "    .dataframe thead th {\n",
       "        text-align: right;\n",
       "    }\n",
       "</style>\n",
       "<table border=\"1\" class=\"dataframe\">\n",
       "  <thead>\n",
       "    <tr style=\"text-align: right;\">\n",
       "      <th></th>\n",
       "      <th>timestamp</th>\n",
       "      <th>s0</th>\n",
       "      <th>s1</th>\n",
       "      <th>s2</th>\n",
       "      <th>label</th>\n",
       "    </tr>\n",
       "  </thead>\n",
       "  <tbody>\n",
       "    <tr>\n",
       "      <th>0</th>\n",
       "      <td>776864599.0</td>\n",
       "      <td>1.529956</td>\n",
       "      <td>1.483227</td>\n",
       "      <td>1.497729</td>\n",
       "      <td>0.0</td>\n",
       "    </tr>\n",
       "    <tr>\n",
       "      <th>1</th>\n",
       "      <td>776869620.0</td>\n",
       "      <td>1.519482</td>\n",
       "      <td>1.490479</td>\n",
       "      <td>1.509814</td>\n",
       "      <td>0.0</td>\n",
       "    </tr>\n",
       "    <tr>\n",
       "      <th>2</th>\n",
       "      <td>776874637.0</td>\n",
       "      <td>1.508203</td>\n",
       "      <td>1.490479</td>\n",
       "      <td>1.504980</td>\n",
       "      <td>0.0</td>\n",
       "    </tr>\n",
       "    <tr>\n",
       "      <th>3</th>\n",
       "      <td>776879654.0</td>\n",
       "      <td>1.535596</td>\n",
       "      <td>1.496924</td>\n",
       "      <td>1.495312</td>\n",
       "      <td>0.0</td>\n",
       "    </tr>\n",
       "    <tr>\n",
       "      <th>4</th>\n",
       "      <td>777266082.0</td>\n",
       "      <td>1.533179</td>\n",
       "      <td>1.488867</td>\n",
       "      <td>1.513037</td>\n",
       "      <td>0.0</td>\n",
       "    </tr>\n",
       "  </tbody>\n",
       "</table>\n",
       "</div>"
      ],
      "text/plain": [
       "     timestamp        s0        s1        s2  label\n",
       "0  776864599.0  1.529956  1.483227  1.497729    0.0\n",
       "1  776869620.0  1.519482  1.490479  1.509814    0.0\n",
       "2  776874637.0  1.508203  1.490479  1.504980    0.0\n",
       "3  776879654.0  1.535596  1.496924  1.495312    0.0\n",
       "4  777266082.0  1.533179  1.488867  1.513037    0.0"
      ]
     },
     "execution_count": 44,
     "metadata": {},
     "output_type": "execute_result"
    }
   ],
   "source": [
    "df.head()"
   ]
  },
  {
   "cell_type": "code",
   "execution_count": 45,
   "id": "a1ecb902-a7cf-41c4-9d74-92f576cd5800",
   "metadata": {},
   "outputs": [
    {
     "data": {
      "text/plain": [
       "382"
      ]
     },
     "execution_count": 45,
     "metadata": {},
     "output_type": "execute_result"
    }
   ],
   "source": [
    "len(df)"
   ]
  },
  {
   "cell_type": "code",
   "execution_count": 46,
   "id": "f1a71fd9-9641-4e7e-a236-9b3bc4e40eba",
   "metadata": {},
   "outputs": [
    {
     "data": {
      "text/plain": [
       "array([[1.519482, 1.490479, 1.509814],\n",
       "       [1.508203, 1.490479, 1.50498 ],\n",
       "       [1.535596, 1.496924, 1.495312],\n",
       "       [1.533179, 1.488867, 1.513037],\n",
       "       [1.51062 , 1.492895, 1.496118]])"
      ]
     },
     "execution_count": 46,
     "metadata": {},
     "output_type": "execute_result"
    }
   ],
   "source": [
    "df[['s0', 's1', 's2']][1:1+5].to_numpy()"
   ]
  },
  {
   "cell_type": "code",
   "execution_count": 182,
   "id": "3a8c8433-457d-4287-9d19-f2d46f2ab03f",
   "metadata": {},
   "outputs": [],
   "source": [
    "data = []\n",
    "labels = []\n",
    "\n",
    "window = 20\n",
    "\n",
    "for i in range(len(df)-window):\n",
    "    data.append(df[['s0', 's1', 's2']][i:i+window].to_numpy().reshape(-1))\n",
    "    labels.append(df['label'][i:i+1].to_numpy())\n",
    "    \n",
    "data = np.array(data)\n",
    "labels = np.array(labels).ravel()"
   ]
  },
  {
   "cell_type": "code",
   "execution_count": 183,
   "id": "377f7b55-bf25-4560-b2e3-2151988e1cf3",
   "metadata": {},
   "outputs": [],
   "source": [
    "train_data, test_data, train_labels, test_labels = train_test_split(data, labels, test_size=0.2)"
   ]
  },
  {
   "cell_type": "code",
   "execution_count": 184,
   "id": "ef7fcb41-7bfb-4cb4-bd31-9674c650105a",
   "metadata": {},
   "outputs": [
    {
     "data": {
      "text/plain": [
       "(289,)"
      ]
     },
     "execution_count": 184,
     "metadata": {},
     "output_type": "execute_result"
    }
   ],
   "source": [
    "train_labels.shape"
   ]
  },
  {
   "cell_type": "code",
   "execution_count": 185,
   "id": "85da5d4a-27c1-43ed-9a11-e5e5628edccb",
   "metadata": {},
   "outputs": [],
   "source": [
    "logistic = LogisticRegression(random_state=1)\n",
    "# logistic = logistic.fit(train_data, train_labels)"
   ]
  },
  {
   "cell_type": "code",
   "execution_count": 186,
   "id": "cfeb9f37-18df-475e-8eb3-0e4677b39a6e",
   "metadata": {},
   "outputs": [
    {
     "data": {
      "text/plain": [
       "array([0.5890411 , 0.57534247, 0.58333333, 0.59722222, 0.58333333])"
      ]
     },
     "execution_count": 186,
     "metadata": {},
     "output_type": "execute_result"
    }
   ],
   "source": [
    "scores = cross_val_score(logistic, data, labels, cv=5)\n",
    "scores"
   ]
  },
  {
   "cell_type": "code",
   "execution_count": 187,
   "id": "2e6584cf",
   "metadata": {},
   "outputs": [],
   "source": [
    "X, y = [], []\n",
    "for i in range(len(df)-window):\n",
    "    feature = df[['s0', 's1', 's2']][i:i+window].to_numpy()/3.3\n",
    "    target = df['label'][i+1:i+window+1].to_numpy()\n",
    "    X.append(feature)\n",
    "    y.append(target)\n",
    "X, y = torch.tensor(np.array(X).astype(np.float32)), torch.tensor(np.array(y).astype(np.float32))\n",
    "X, y = X, y"
   ]
  },
  {
   "cell_type": "code",
   "execution_count": 188,
   "id": "10cbf3a9",
   "metadata": {},
   "outputs": [
    {
     "data": {
      "text/plain": [
       "(torch.Size([362, 20, 3]), torch.Size([362, 20]))"
      ]
     },
     "execution_count": 188,
     "metadata": {},
     "output_type": "execute_result"
    }
   ],
   "source": [
    "X.shape, y.shape"
   ]
  },
  {
   "cell_type": "code",
   "execution_count": 189,
   "id": "c31fcf0e",
   "metadata": {},
   "outputs": [],
   "source": [
    "class MuscleClassifier(nn.Module):\n",
    "    def __init__(self, lookback):\n",
    "        super().__init__()\n",
    "        self.lstm = nn.LSTM(input_size=3, hidden_size=50, num_layers=2, batch_first=True)\n",
    "        self.dense = nn.Linear(50, 1)\n",
    "        self.inner_sigmoid = nn.Sigmoid()\n",
    "        self.dense2 = nn.Linear(1, 1)\n",
    "        self.sigmoid = nn.Sigmoid()\n",
    "    def forward(self, x):\n",
    "        # print(f\"input shape: {x.shape}\")\n",
    "        x, _ = self.lstm(x)\n",
    "        # print(f\"lstm output shape: {x.shape}\")\n",
    "        x = self.dense(x)\n",
    "        # print(f\"dense output shape: {x.shape}\")\n",
    "        # x = self.inner_sigmoid(x)\n",
    "        # print(f\"inner sigmoid output shape: {x.shape}\")\n",
    "        # x = self.dense2(x)\n",
    "        # print(f\"dense2 output shape: {x.shape}\")\n",
    "        x = self.sigmoid(x)\n",
    "        # print(f\"sigmoid output shape: {x.shape}\")\n",
    "        x = torch.flatten(x, start_dim=1)\n",
    "        return x"
   ]
  },
  {
   "cell_type": "code",
   "execution_count": 190,
   "id": "74b7ade2",
   "metadata": {},
   "outputs": [
    {
     "name": "stdout",
     "output_type": "stream",
     "text": [
      "epoch: 0, loss: 26.729875564575195, acc = 0.5020154118537903\n",
      "epoch: 5, loss: 26.90545082092285, acc = 0.48402222990989685\n",
      "epoch: 10, loss: 27.150135040283203, acc = 0.4739077687263489\n",
      "epoch: 15, loss: 26.979591369628906, acc = 0.5240110158920288\n",
      "epoch: 20, loss: 27.231870651245117, acc = 0.4729768931865692\n",
      "epoch: 25, loss: 27.12268829345703, acc = 0.4714074432849884\n",
      "epoch: 30, loss: 26.880788803100586, acc = 0.4727977514266968\n",
      "epoch: 35, loss: 26.87194061279297, acc = 0.4727477729320526\n",
      "epoch: 40, loss: 26.871925354003906, acc = 0.4727482199668884\n",
      "epoch: 45, loss: 26.871929168701172, acc = 0.472748726606369\n"
     ]
    }
   ],
   "source": [
    "model = MuscleClassifier(window)\n",
    "opt = torch.optim.Adam(model.parameters(), lr=0.001)\n",
    "loss_fn = nn.CrossEntropyLoss()\n",
    "loader = torch.utils.data.DataLoader(torch.utils.data.TensorDataset(X, y), batch_size=32, shuffle=True)\n",
    "\n",
    "# model = model.float()\n",
    "\n",
    "n_epoch = 50\n",
    "for epoch in range(n_epoch):\n",
    "    model.train()\n",
    "    for x_b, y_b in loader:\n",
    "        y_hat = model(x_b)\n",
    "        # print(y_hat.shape, y_b.shape)\n",
    "        # print(y_hat, y_b)\n",
    "        loss = loss_fn(y_hat[:, -1], y_b[:, -1])\n",
    "        opt.zero_grad()\n",
    "        loss.backward()\n",
    "        opt.step()\n",
    "\n",
    "    # every 100 epochs, print the loss\n",
    "    if epoch % (n_epoch//10) != 0:\n",
    "        continue\n",
    "\n",
    "    model.eval()\n",
    "    with torch.no_grad():\n",
    "        y_hat = model(X)\n",
    "        loss = loss_fn(y_hat, y)\n",
    "        acc = torch.abs(y_hat[:, -1] - y[:, -1]).mean()\n",
    "\n",
    "        print(f'epoch: {epoch}, loss: {loss}, acc = {acc}')"
   ]
  }
 ],
 "metadata": {
  "kernelspec": {
   "display_name": "pytorch",
   "language": "python",
   "name": "python3"
  },
  "language_info": {
   "codemirror_mode": {
    "name": "ipython",
    "version": 3
   },
   "file_extension": ".py",
   "mimetype": "text/x-python",
   "name": "python",
   "nbconvert_exporter": "python",
   "pygments_lexer": "ipython3",
   "version": "3.10.9"
  },
  "vscode": {
   "interpreter": {
    "hash": "bd505e08eefc00cbc875aaa56f54c4de504831092a88834ee16ce40ce419a73f"
   }
  }
 },
 "nbformat": 4,
 "nbformat_minor": 5
}
