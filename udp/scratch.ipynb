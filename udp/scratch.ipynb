{
 "cells": [
  {
   "cell_type": "code",
   "execution_count": 1,
   "metadata": {},
   "outputs": [],
   "source": [
    "import warnings\n",
    "warnings.simplefilter(action='ignore', category=FutureWarning)\n",
    "\n",
    "import pandas as pd\n",
    "import numpy as np\n",
    "import matplotlib.pyplot as plt\n",
    "from pyts.classification import TimeSeriesForest"
   ]
  },
  {
   "cell_type": "code",
   "execution_count": 14,
   "metadata": {},
   "outputs": [
    {
     "name": "stderr",
     "output_type": "stream",
     "text": [
      "/tmp/ipykernel_66039/1106062903.py:6: SettingWithCopyWarning: \n",
      "A value is trying to be set on a copy of a slice from a DataFrame.\n",
      "Try using .loc[row_indexer,col_indexer] = value instead\n",
      "\n",
      "See the caveats in the documentation: https://pandas.pydata.org/pandas-docs/stable/user_guide/indexing.html#returning-a-view-versus-a-copy\n",
      "  board1['Row'] = board1['Row'] - 1\n"
     ]
    }
   ],
   "source": [
    "df = pd.read_csv('ring_data.csv', header=None)\n",
    "df.columns = ['Board', 'Time', 'Sensor 0', 'Sensor 1', 'Sensor 2', 'Button']\n",
    "df[\"Row\"] = df.index\n",
    "board0 = df[df['Board'] == 'Board0']\n",
    "board1 = df[df['Board'] == 'Board1']\n",
    "board1['Row'] = board1['Row'] - 1\n",
    "dfc = pd.merge(board0, board1, on='Row', suffixes=('_0', '_1'))"
   ]
  },
  {
   "cell_type": "code",
   "execution_count": 15,
   "metadata": {},
   "outputs": [
    {
     "data": {
      "text/html": [
       "<div>\n",
       "<style scoped>\n",
       "    .dataframe tbody tr th:only-of-type {\n",
       "        vertical-align: middle;\n",
       "    }\n",
       "\n",
       "    .dataframe tbody tr th {\n",
       "        vertical-align: top;\n",
       "    }\n",
       "\n",
       "    .dataframe thead th {\n",
       "        text-align: right;\n",
       "    }\n",
       "</style>\n",
       "<table border=\"1\" class=\"dataframe\">\n",
       "  <thead>\n",
       "    <tr style=\"text-align: right;\">\n",
       "      <th></th>\n",
       "      <th>Board_0</th>\n",
       "      <th>Time_0</th>\n",
       "      <th>Sensor 0_0</th>\n",
       "      <th>Sensor 1_0</th>\n",
       "      <th>Sensor 2_0</th>\n",
       "      <th>Button_0</th>\n",
       "      <th>Row</th>\n",
       "      <th>Board_1</th>\n",
       "      <th>Time_1</th>\n",
       "      <th>Sensor 0_1</th>\n",
       "      <th>Sensor 1_1</th>\n",
       "      <th>Sensor 2_1</th>\n",
       "      <th>Button_1</th>\n",
       "    </tr>\n",
       "  </thead>\n",
       "  <tbody>\n",
       "    <tr>\n",
       "      <th>0</th>\n",
       "      <td>Board0</td>\n",
       "      <td>40295316.0</td>\n",
       "      <td>1.522705</td>\n",
       "      <td>1.509009</td>\n",
       "      <td>1.496924</td>\n",
       "      <td>0.0</td>\n",
       "      <td>0</td>\n",
       "      <td>Board1</td>\n",
       "      <td>29360793.0</td>\n",
       "      <td>1.483227</td>\n",
       "      <td>1.522705</td>\n",
       "      <td>1.532373</td>\n",
       "      <td>0.0</td>\n",
       "    </tr>\n",
       "    <tr>\n",
       "      <th>1</th>\n",
       "      <td>Board0</td>\n",
       "      <td>40296339.0</td>\n",
       "      <td>1.541235</td>\n",
       "      <td>1.508203</td>\n",
       "      <td>1.492895</td>\n",
       "      <td>0.0</td>\n",
       "      <td>2</td>\n",
       "      <td>Board1</td>\n",
       "      <td>29361810.0</td>\n",
       "      <td>1.484839</td>\n",
       "      <td>1.511426</td>\n",
       "      <td>1.522705</td>\n",
       "      <td>0.0</td>\n",
       "    </tr>\n",
       "    <tr>\n",
       "      <th>2</th>\n",
       "      <td>Board0</td>\n",
       "      <td>40297356.0</td>\n",
       "      <td>1.538013</td>\n",
       "      <td>1.512231</td>\n",
       "      <td>1.496118</td>\n",
       "      <td>0.0</td>\n",
       "      <td>4</td>\n",
       "      <td>Board1</td>\n",
       "      <td>29362827.0</td>\n",
       "      <td>1.487256</td>\n",
       "      <td>1.501758</td>\n",
       "      <td>1.513037</td>\n",
       "      <td>0.0</td>\n",
       "    </tr>\n",
       "    <tr>\n",
       "      <th>3</th>\n",
       "      <td>Board0</td>\n",
       "      <td>40298372.0</td>\n",
       "      <td>1.527539</td>\n",
       "      <td>1.517065</td>\n",
       "      <td>1.502563</td>\n",
       "      <td>0.0</td>\n",
       "      <td>6</td>\n",
       "      <td>Board1</td>\n",
       "      <td>29363845.0</td>\n",
       "      <td>1.488867</td>\n",
       "      <td>1.491284</td>\n",
       "      <td>1.504175</td>\n",
       "      <td>0.0</td>\n",
       "    </tr>\n",
       "    <tr>\n",
       "      <th>4</th>\n",
       "      <td>Board0</td>\n",
       "      <td>41396134.0</td>\n",
       "      <td>1.538818</td>\n",
       "      <td>1.500147</td>\n",
       "      <td>1.495312</td>\n",
       "      <td>0.0</td>\n",
       "      <td>8</td>\n",
       "      <td>Board1</td>\n",
       "      <td>30536427.0</td>\n",
       "      <td>1.483227</td>\n",
       "      <td>1.460669</td>\n",
       "      <td>1.478394</td>\n",
       "      <td>0.0</td>\n",
       "    </tr>\n",
       "    <tr>\n",
       "      <th>...</th>\n",
       "      <td>...</td>\n",
       "      <td>...</td>\n",
       "      <td>...</td>\n",
       "      <td>...</td>\n",
       "      <td>...</td>\n",
       "      <td>...</td>\n",
       "      <td>...</td>\n",
       "      <td>...</td>\n",
       "      <td>...</td>\n",
       "      <td>...</td>\n",
       "      <td>...</td>\n",
       "      <td>...</td>\n",
       "      <td>...</td>\n",
       "    </tr>\n",
       "    <tr>\n",
       "      <th>666</th>\n",
       "      <td>Board0</td>\n",
       "      <td>77318572.0</td>\n",
       "      <td>1.508203</td>\n",
       "      <td>1.515454</td>\n",
       "      <td>1.497729</td>\n",
       "      <td>0.0</td>\n",
       "      <td>1332</td>\n",
       "      <td>Board1</td>\n",
       "      <td>66439354.0</td>\n",
       "      <td>1.489673</td>\n",
       "      <td>1.447778</td>\n",
       "      <td>1.477588</td>\n",
       "      <td>0.0</td>\n",
       "    </tr>\n",
       "    <tr>\n",
       "      <th>667</th>\n",
       "      <td>Board0</td>\n",
       "      <td>77402040.0</td>\n",
       "      <td>1.529150</td>\n",
       "      <td>1.506592</td>\n",
       "      <td>1.491284</td>\n",
       "      <td>0.0</td>\n",
       "      <td>1334</td>\n",
       "      <td>Board1</td>\n",
       "      <td>66538085.0</td>\n",
       "      <td>1.484839</td>\n",
       "      <td>1.452612</td>\n",
       "      <td>1.480811</td>\n",
       "      <td>0.0</td>\n",
       "    </tr>\n",
       "    <tr>\n",
       "      <th>668</th>\n",
       "      <td>Board0</td>\n",
       "      <td>77501797.0</td>\n",
       "      <td>1.543652</td>\n",
       "      <td>1.514648</td>\n",
       "      <td>1.496118</td>\n",
       "      <td>0.0</td>\n",
       "      <td>1336</td>\n",
       "      <td>Board1</td>\n",
       "      <td>66539106.0</td>\n",
       "      <td>1.485644</td>\n",
       "      <td>1.442139</td>\n",
       "      <td>1.475977</td>\n",
       "      <td>0.0</td>\n",
       "    </tr>\n",
       "    <tr>\n",
       "      <th>669</th>\n",
       "      <td>Board0</td>\n",
       "      <td>77502819.0</td>\n",
       "      <td>1.527539</td>\n",
       "      <td>1.510620</td>\n",
       "      <td>1.498535</td>\n",
       "      <td>0.0</td>\n",
       "      <td>1338</td>\n",
       "      <td>Board1</td>\n",
       "      <td>66637838.0</td>\n",
       "      <td>1.489673</td>\n",
       "      <td>1.469531</td>\n",
       "      <td>1.491284</td>\n",
       "      <td>0.0</td>\n",
       "    </tr>\n",
       "    <tr>\n",
       "      <th>670</th>\n",
       "      <td>Board0</td>\n",
       "      <td>77597457.0</td>\n",
       "      <td>1.491284</td>\n",
       "      <td>1.505786</td>\n",
       "      <td>1.491284</td>\n",
       "      <td>0.0</td>\n",
       "      <td>1340</td>\n",
       "      <td>Board1</td>\n",
       "      <td>66639875.0</td>\n",
       "      <td>1.484033</td>\n",
       "      <td>1.446973</td>\n",
       "      <td>1.474365</td>\n",
       "      <td>0.0</td>\n",
       "    </tr>\n",
       "  </tbody>\n",
       "</table>\n",
       "<p>671 rows × 13 columns</p>\n",
       "</div>"
      ],
      "text/plain": [
       "    Board_0      Time_0  Sensor 0_0  Sensor 1_0  Sensor 2_0  Button_0   Row  \\\n",
       "0    Board0  40295316.0    1.522705    1.509009    1.496924       0.0     0   \n",
       "1    Board0  40296339.0    1.541235    1.508203    1.492895       0.0     2   \n",
       "2    Board0  40297356.0    1.538013    1.512231    1.496118       0.0     4   \n",
       "3    Board0  40298372.0    1.527539    1.517065    1.502563       0.0     6   \n",
       "4    Board0  41396134.0    1.538818    1.500147    1.495312       0.0     8   \n",
       "..      ...         ...         ...         ...         ...       ...   ...   \n",
       "666  Board0  77318572.0    1.508203    1.515454    1.497729       0.0  1332   \n",
       "667  Board0  77402040.0    1.529150    1.506592    1.491284       0.0  1334   \n",
       "668  Board0  77501797.0    1.543652    1.514648    1.496118       0.0  1336   \n",
       "669  Board0  77502819.0    1.527539    1.510620    1.498535       0.0  1338   \n",
       "670  Board0  77597457.0    1.491284    1.505786    1.491284       0.0  1340   \n",
       "\n",
       "    Board_1      Time_1  Sensor 0_1  Sensor 1_1  Sensor 2_1  Button_1  \n",
       "0    Board1  29360793.0    1.483227    1.522705    1.532373       0.0  \n",
       "1    Board1  29361810.0    1.484839    1.511426    1.522705       0.0  \n",
       "2    Board1  29362827.0    1.487256    1.501758    1.513037       0.0  \n",
       "3    Board1  29363845.0    1.488867    1.491284    1.504175       0.0  \n",
       "4    Board1  30536427.0    1.483227    1.460669    1.478394       0.0  \n",
       "..      ...         ...         ...         ...         ...       ...  \n",
       "666  Board1  66439354.0    1.489673    1.447778    1.477588       0.0  \n",
       "667  Board1  66538085.0    1.484839    1.452612    1.480811       0.0  \n",
       "668  Board1  66539106.0    1.485644    1.442139    1.475977       0.0  \n",
       "669  Board1  66637838.0    1.489673    1.469531    1.491284       0.0  \n",
       "670  Board1  66639875.0    1.484033    1.446973    1.474365       0.0  \n",
       "\n",
       "[671 rows x 13 columns]"
      ]
     },
     "execution_count": 15,
     "metadata": {},
     "output_type": "execute_result"
    }
   ],
   "source": [
    "dfc"
   ]
  },
  {
   "cell_type": "code",
   "execution_count": 16,
   "metadata": {},
   "outputs": [
    {
     "data": {
      "text/plain": [
       "((671, 6), (671,))"
      ]
     },
     "execution_count": 16,
     "metadata": {},
     "output_type": "execute_result"
    }
   ],
   "source": [
    "X = dfc[['Sensor 0_0', 'Sensor 1_0', 'Sensor 2_0', 'Sensor 0_1', 'Sensor 1_1', 'Sensor 2_1']].to_numpy()\n",
    "y = dfc['Button_1'].to_numpy()\n",
    "X.shape, y.shape"
   ]
  },
  {
   "cell_type": "code",
   "execution_count": 17,
   "metadata": {},
   "outputs": [],
   "source": [
    "# X = ((X-(3.3/2))/3.3)"
   ]
  },
  {
   "cell_type": "code",
   "execution_count": 18,
   "metadata": {},
   "outputs": [],
   "source": [
    "clf = TimeSeriesForest(n_estimators=50, criterion='entropy', max_depth=1, n_jobs=-1)"
   ]
  },
  {
   "cell_type": "code",
   "execution_count": 19,
   "metadata": {},
   "outputs": [
    {
     "name": "stdout",
     "output_type": "stream",
     "text": [
      "CV 0: 0.9626865671641791\n",
      "CV 1: 0.8432835820895522\n",
      "CV 2: 0.8507462686567164\n",
      "CV 3: 0.7761194029850746\n",
      "CV 4: 0.7313432835820896\n",
      "Average score: 0.7789179104477613\n"
     ]
    }
   ],
   "source": [
    "# setup cross validation\n",
    "cv_num = 5\n",
    "cv_sz = int(len(X) / cv_num)\n",
    "\n",
    "avg_score = None\n",
    "\n",
    "for i in range(cv_num):\n",
    "    X_test = X[cv_sz * i:cv_sz * (i + 1)]\n",
    "    y_test = y[cv_sz * i:cv_sz * (i + 1)]\n",
    "    X_train = np.concatenate((X[:cv_sz * i], X[cv_sz * (i + 1):]))\n",
    "    y_train = np.concatenate((y[:cv_sz * i], y[cv_sz * (i + 1):]))\n",
    "    clf.fit(X_train, y_train)\n",
    "    score = clf.score(X_test, y_test)\n",
    "    print(f\"CV {i}: {score}\")\n",
    "    if avg_score is None:\n",
    "        avg_score = score\n",
    "    else:\n",
    "        avg_score = (avg_score + score) / 2\n",
    "\n",
    "print(f\"Average score: {avg_score}\")"
   ]
  },
  {
   "cell_type": "code",
   "execution_count": 20,
   "metadata": {},
   "outputs": [
    {
     "data": {
      "text/plain": [
       "[<matplotlib.lines.Line2D at 0x7fa8abc1b2b0>]"
      ]
     },
     "execution_count": 20,
     "metadata": {},
     "output_type": "execute_result"
    },
    {
     "data": {
      "image/png": "[encoded data removed]",
      "text/plain": [
       "<Figure size 640x480 with 1 Axes>"
      ]
     },
     "metadata": {},
     "output_type": "display_data"
    }
   ],
   "source": [
    "tx = X[-150:]\n",
    "ty = y[-150:]\n",
    "\n",
    "pred = clf.predict(tx)\n",
    "# pred = np.array([1 if pred[i:i+3].sum()/3 > 0 else 0 for i in range(len(pred) - 3)])\n",
    "\n",
    "\n",
    "plt.plot(ty)\n",
    "plt.plot(pred)"
   ]
  },
  {
   "cell_type": "code",
   "execution_count": 21,
   "metadata": {},
   "outputs": [],
   "source": [
    "import pickle\n",
    "\n",
    "clf.fit(X, y)\n",
    "\n",
    "with open('model.pkl', 'wb') as f:\n",
    "    pickle.dump(clf, f)"
   ]
  },
  {
   "cell_type": "code",
   "execution_count": 22,
   "metadata": {},
   "outputs": [
    {
     "data": {
      "text/plain": [
       "(2, 3)"
      ]
     },
     "execution_count": 22,
     "metadata": {},
     "output_type": "execute_result"
    }
   ],
   "source": [
    "a = np.array([0,1,2])\n",
    "b = np.array([1,1,2])\n",
    "np.vstack([a,b]).shape"
   ]
  }
 ],
 "metadata": {
  "kernelspec": {
   "display_name": "devel",
   "language": "python",
   "name": "python3"
  },
  "language_info": {
   "codemirror_mode": {
    "name": "ipython",
    "version": 3
   },
   "file_extension": ".py",
   "mimetype": "text/x-python",
   "name": "python",
   "nbconvert_exporter": "python",
   "pygments_lexer": "ipython3",
   "version": "3.10.4"
  },
  "orig_nbformat": 4,
  "vscode": {
   "interpreter": {
    "hash": "1710dd2a33b7b750d7a9fbc509b7dd9ebb437a87a6951e030db25bc4cd5d9591"
   }
  }
 },
 "nbformat": 4,
 "nbformat_minor": 2
}
