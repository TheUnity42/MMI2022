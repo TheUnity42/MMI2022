{
 "cells": [
  {
   "cell_type": "code",
   "execution_count": 1,
   "metadata": {},
   "outputs": [],
   "source": [
    "import warnings\n",
    "warnings.simplefilter(action='ignore', category=FutureWarning)\n",
    "\n",
    "import pandas as pd\n",
    "import numpy as np\n",
    "import matplotlib.pyplot as plt\n",
    "from pyts.classification import TimeSeriesForest"
   ]
  },
  {
   "cell_type": "code",
   "execution_count": 2,
   "metadata": {},
   "outputs": [
    {
     "name": "stderr",
     "output_type": "stream",
     "text": [
      "/tmp/ipykernel_313709/84072449.py:6: SettingWithCopyWarning: \n",
      "A value is trying to be set on a copy of a slice from a DataFrame.\n",
      "Try using .loc[row_indexer,col_indexer] = value instead\n",
      "\n",
      "See the caveats in the documentation: https://pandas.pydata.org/pandas-docs/stable/user_guide/indexing.html#returning-a-view-versus-a-copy\n",
      "  board1['Row'] = board1['Row'] - 1\n"
     ]
    }
   ],
   "source": [
    "df = pd.read_csv('more_ring_data.csv', header=None)\n",
    "df.columns = ['Board', 'Time', 'Sensor 0', 'Sensor 1', 'Sensor 2', 'Button']\n",
    "df[\"Row\"] = df.index\n",
    "board0 = df[df['Board'] == 'Board0']\n",
    "board1 = df[df['Board'] == 'Board1']\n",
    "board1['Row'] = board1['Row'] - 1\n",
    "dfc = pd.merge(board0, board1, on='Row', suffixes=('_0', '_1'))"
   ]
  },
  {
   "cell_type": "code",
   "execution_count": 3,
   "metadata": {},
   "outputs": [
    {
     "data": {
      "text/html": [
       "<div>\n",
       "<style scoped>\n",
       "    .dataframe tbody tr th:only-of-type {\n",
       "        vertical-align: middle;\n",
       "    }\n",
       "\n",
       "    .dataframe tbody tr th {\n",
       "        vertical-align: top;\n",
       "    }\n",
       "\n",
       "    .dataframe thead th {\n",
       "        text-align: right;\n",
       "    }\n",
       "</style>\n",
       "<table border=\"1\" class=\"dataframe\">\n",
       "  <thead>\n",
       "    <tr style=\"text-align: right;\">\n",
       "      <th></th>\n",
       "      <th>Board_0</th>\n",
       "      <th>Time_0</th>\n",
       "      <th>Sensor 0_0</th>\n",
       "      <th>Sensor 1_0</th>\n",
       "      <th>Sensor 2_0</th>\n",
       "      <th>Button_0</th>\n",
       "      <th>Row</th>\n",
       "      <th>Board_1</th>\n",
       "      <th>Time_1</th>\n",
       "      <th>Sensor 0_1</th>\n",
       "      <th>Sensor 1_1</th>\n",
       "      <th>Sensor 2_1</th>\n",
       "      <th>Button_1</th>\n",
       "    </tr>\n",
       "  </thead>\n",
       "  <tbody>\n",
       "    <tr>\n",
       "      <th>0</th>\n",
       "      <td>Board0</td>\n",
       "      <td>1.161354e+09</td>\n",
       "      <td>1.477588</td>\n",
       "      <td>1.535596</td>\n",
       "      <td>1.515454</td>\n",
       "      <td>0.0</td>\n",
       "      <td>0</td>\n",
       "      <td>Board1</td>\n",
       "      <td>1.150498e+09</td>\n",
       "      <td>1.478394</td>\n",
       "      <td>1.485644</td>\n",
       "      <td>1.500147</td>\n",
       "      <td>0.0</td>\n",
       "    </tr>\n",
       "    <tr>\n",
       "      <th>1</th>\n",
       "      <td>Board0</td>\n",
       "      <td>1.161355e+09</td>\n",
       "      <td>1.495312</td>\n",
       "      <td>1.528345</td>\n",
       "      <td>1.503369</td>\n",
       "      <td>0.0</td>\n",
       "      <td>2</td>\n",
       "      <td>Board1</td>\n",
       "      <td>1.150499e+09</td>\n",
       "      <td>1.483227</td>\n",
       "      <td>1.485644</td>\n",
       "      <td>1.499341</td>\n",
       "      <td>0.0</td>\n",
       "    </tr>\n",
       "    <tr>\n",
       "      <th>2</th>\n",
       "      <td>Board0</td>\n",
       "      <td>1.161356e+09</td>\n",
       "      <td>1.511426</td>\n",
       "      <td>1.511426</td>\n",
       "      <td>1.492895</td>\n",
       "      <td>0.0</td>\n",
       "      <td>4</td>\n",
       "      <td>Board1</td>\n",
       "      <td>1.150500e+09</td>\n",
       "      <td>1.479199</td>\n",
       "      <td>1.488867</td>\n",
       "      <td>1.502563</td>\n",
       "      <td>0.0</td>\n",
       "    </tr>\n",
       "    <tr>\n",
       "      <th>3</th>\n",
       "      <td>Board0</td>\n",
       "      <td>1.161357e+09</td>\n",
       "      <td>1.508203</td>\n",
       "      <td>1.525122</td>\n",
       "      <td>1.500147</td>\n",
       "      <td>0.0</td>\n",
       "      <td>6</td>\n",
       "      <td>Board1</td>\n",
       "      <td>1.150501e+09</td>\n",
       "      <td>1.480811</td>\n",
       "      <td>1.488867</td>\n",
       "      <td>1.504980</td>\n",
       "      <td>0.0</td>\n",
       "    </tr>\n",
       "    <tr>\n",
       "      <th>4</th>\n",
       "      <td>Board0</td>\n",
       "      <td>1.162454e+09</td>\n",
       "      <td>1.496924</td>\n",
       "      <td>1.521094</td>\n",
       "      <td>1.500147</td>\n",
       "      <td>0.0</td>\n",
       "      <td>8</td>\n",
       "      <td>Board1</td>\n",
       "      <td>1.151498e+09</td>\n",
       "      <td>1.483227</td>\n",
       "      <td>1.487256</td>\n",
       "      <td>1.500952</td>\n",
       "      <td>0.0</td>\n",
       "    </tr>\n",
       "    <tr>\n",
       "      <th>...</th>\n",
       "      <td>...</td>\n",
       "      <td>...</td>\n",
       "      <td>...</td>\n",
       "      <td>...</td>\n",
       "      <td>...</td>\n",
       "      <td>...</td>\n",
       "      <td>...</td>\n",
       "      <td>...</td>\n",
       "      <td>...</td>\n",
       "      <td>...</td>\n",
       "      <td>...</td>\n",
       "      <td>...</td>\n",
       "      <td>...</td>\n",
       "    </tr>\n",
       "    <tr>\n",
       "      <th>2168</th>\n",
       "      <td>Board0</td>\n",
       "      <td>1.276360e+09</td>\n",
       "      <td>1.504980</td>\n",
       "      <td>1.513037</td>\n",
       "      <td>1.496924</td>\n",
       "      <td>0.0</td>\n",
       "      <td>4336</td>\n",
       "      <td>Board1</td>\n",
       "      <td>1.265405e+09</td>\n",
       "      <td>1.484033</td>\n",
       "      <td>1.492895</td>\n",
       "      <td>1.511426</td>\n",
       "      <td>0.0</td>\n",
       "    </tr>\n",
       "    <tr>\n",
       "      <th>2169</th>\n",
       "      <td>Board0</td>\n",
       "      <td>1.276361e+09</td>\n",
       "      <td>1.501758</td>\n",
       "      <td>1.513037</td>\n",
       "      <td>1.497729</td>\n",
       "      <td>0.0</td>\n",
       "      <td>4338</td>\n",
       "      <td>Board1</td>\n",
       "      <td>1.265505e+09</td>\n",
       "      <td>1.480005</td>\n",
       "      <td>1.492090</td>\n",
       "      <td>1.512231</td>\n",
       "      <td>0.0</td>\n",
       "    </tr>\n",
       "    <tr>\n",
       "      <th>2170</th>\n",
       "      <td>Board0</td>\n",
       "      <td>1.276460e+09</td>\n",
       "      <td>1.499341</td>\n",
       "      <td>1.519482</td>\n",
       "      <td>1.502563</td>\n",
       "      <td>0.0</td>\n",
       "      <td>4340</td>\n",
       "      <td>Board1</td>\n",
       "      <td>1.265506e+09</td>\n",
       "      <td>1.479199</td>\n",
       "      <td>1.492090</td>\n",
       "      <td>1.509009</td>\n",
       "      <td>0.0</td>\n",
       "    </tr>\n",
       "    <tr>\n",
       "      <th>2171</th>\n",
       "      <td>Board0</td>\n",
       "      <td>1.276461e+09</td>\n",
       "      <td>1.500952</td>\n",
       "      <td>1.517065</td>\n",
       "      <td>1.499341</td>\n",
       "      <td>0.0</td>\n",
       "      <td>4342</td>\n",
       "      <td>Board1</td>\n",
       "      <td>1.265605e+09</td>\n",
       "      <td>1.479199</td>\n",
       "      <td>1.493701</td>\n",
       "      <td>1.509814</td>\n",
       "      <td>0.0</td>\n",
       "    </tr>\n",
       "    <tr>\n",
       "      <th>2172</th>\n",
       "      <td>Board0</td>\n",
       "      <td>1.276560e+09</td>\n",
       "      <td>1.493701</td>\n",
       "      <td>1.510620</td>\n",
       "      <td>1.504175</td>\n",
       "      <td>0.0</td>\n",
       "      <td>4344</td>\n",
       "      <td>Board1</td>\n",
       "      <td>1.265606e+09</td>\n",
       "      <td>1.482422</td>\n",
       "      <td>1.489673</td>\n",
       "      <td>1.509009</td>\n",
       "      <td>0.0</td>\n",
       "    </tr>\n",
       "  </tbody>\n",
       "</table>\n",
       "<p>2173 rows × 13 columns</p>\n",
       "</div>"
      ],
      "text/plain": [
       "     Board_0        Time_0  Sensor 0_0  Sensor 1_0  Sensor 2_0  Button_0  \\\n",
       "0     Board0  1.161354e+09    1.477588    1.535596    1.515454       0.0   \n",
       "1     Board0  1.161355e+09    1.495312    1.528345    1.503369       0.0   \n",
       "2     Board0  1.161356e+09    1.511426    1.511426    1.492895       0.0   \n",
       "3     Board0  1.161357e+09    1.508203    1.525122    1.500147       0.0   \n",
       "4     Board0  1.162454e+09    1.496924    1.521094    1.500147       0.0   \n",
       "...      ...           ...         ...         ...         ...       ...   \n",
       "2168  Board0  1.276360e+09    1.504980    1.513037    1.496924       0.0   \n",
       "2169  Board0  1.276361e+09    1.501758    1.513037    1.497729       0.0   \n",
       "2170  Board0  1.276460e+09    1.499341    1.519482    1.502563       0.0   \n",
       "2171  Board0  1.276461e+09    1.500952    1.517065    1.499341       0.0   \n",
       "2172  Board0  1.276560e+09    1.493701    1.510620    1.504175       0.0   \n",
       "\n",
       "       Row Board_1        Time_1  Sensor 0_1  Sensor 1_1  Sensor 2_1  Button_1  \n",
       "0        0  Board1  1.150498e+09    1.478394    1.485644    1.500147       0.0  \n",
       "1        2  Board1  1.150499e+09    1.483227    1.485644    1.499341       0.0  \n",
       "2        4  Board1  1.150500e+09    1.479199    1.488867    1.502563       0.0  \n",
       "3        6  Board1  1.150501e+09    1.480811    1.488867    1.504980       0.0  \n",
       "4        8  Board1  1.151498e+09    1.483227    1.487256    1.500952       0.0  \n",
       "...    ...     ...           ...         ...         ...         ...       ...  \n",
       "2168  4336  Board1  1.265405e+09    1.484033    1.492895    1.511426       0.0  \n",
       "2169  4338  Board1  1.265505e+09    1.480005    1.492090    1.512231       0.0  \n",
       "2170  4340  Board1  1.265506e+09    1.479199    1.492090    1.509009       0.0  \n",
       "2171  4342  Board1  1.265605e+09    1.479199    1.493701    1.509814       0.0  \n",
       "2172  4344  Board1  1.265606e+09    1.482422    1.489673    1.509009       0.0  \n",
       "\n",
       "[2173 rows x 13 columns]"
      ]
     },
     "execution_count": 3,
     "metadata": {},
     "output_type": "execute_result"
    }
   ],
   "source": [
    "dfc"
   ]
  },
  {
   "cell_type": "code",
   "execution_count": 4,
   "metadata": {},
   "outputs": [
    {
     "data": {
      "text/plain": [
       "((2173, 6), (2173,))"
      ]
     },
     "execution_count": 4,
     "metadata": {},
     "output_type": "execute_result"
    }
   ],
   "source": [
    "X = dfc[['Sensor 0_0', 'Sensor 1_0', 'Sensor 2_0', 'Sensor 0_1', 'Sensor 1_1', 'Sensor 2_1']].to_numpy()\n",
    "y = dfc['Button_1'].to_numpy()\n",
    "X.shape, y.shape"
   ]
  },
  {
   "cell_type": "code",
   "execution_count": 5,
   "metadata": {},
   "outputs": [],
   "source": [
    "# X = ((X-(3.3/2))/3.3)"
   ]
  },
  {
   "cell_type": "code",
   "execution_count": 6,
   "metadata": {},
   "outputs": [],
   "source": [
    "clf = TimeSeriesForest(n_estimators=50, criterion='entropy', max_depth=1, n_jobs=-1)"
   ]
  },
  {
   "cell_type": "code",
   "execution_count": 7,
   "metadata": {},
   "outputs": [
    {
     "name": "stdout",
     "output_type": "stream",
     "text": [
      "CV 0: 0.868663594470046\n",
      "CV 1: 0.8548387096774194\n",
      "CV 2: 0.7188940092165899\n",
      "CV 3: 0.7488479262672811\n",
      "CV 4: 0.6105990783410138\n",
      "Average score: 0.6900921658986174\n"
     ]
    }
   ],
   "source": [
    "# setup cross validation\n",
    "cv_num = 5\n",
    "cv_sz = int(len(X) / cv_num)\n",
    "\n",
    "avg_score = None\n",
    "\n",
    "for i in range(cv_num):\n",
    "    X_test = X[cv_sz * i:cv_sz * (i + 1)]\n",
    "    y_test = y[cv_sz * i:cv_sz * (i + 1)]\n",
    "    X_train = np.concatenate((X[:cv_sz * i], X[cv_sz * (i + 1):]))\n",
    "    y_train = np.concatenate((y[:cv_sz * i], y[cv_sz * (i + 1):]))\n",
    "    clf.fit(X_train, y_train)\n",
    "    score = clf.score(X_test, y_test)\n",
    "    print(f\"CV {i}: {score}\")\n",
    "    if avg_score is None:\n",
    "        avg_score = score\n",
    "    else:\n",
    "        avg_score = (avg_score + score) / 2\n",
    "\n",
    "print(f\"Average score: {avg_score}\")"
   ]
  },
  {
   "cell_type": "code",
   "execution_count": 8,
   "metadata": {},
   "outputs": [
    {
     "data": {
      "text/plain": [
       "[<matplotlib.lines.Line2D at 0x7f5667e2dd80>]"
      ]
     },
     "execution_count": 8,
     "metadata": {},
     "output_type": "execute_result"
    },
    {
     "data": {
      "image/png": "[encoded data removed]",
      "text/plain": [
       "<Figure size 640x480 with 1 Axes>"
      ]
     },
     "metadata": {},
     "output_type": "display_data"
    }
   ],
   "source": [
    "tx = X[-150:]\n",
    "ty = y[-150:]\n",
    "\n",
    "pred = clf.predict(tx)\n",
    "pred = np.array([1 if pred[i:i+3].sum()/3 > 0 else 0 for i in range(len(pred) - 3)])\n",
    "\n",
    "\n",
    "plt.plot(ty)\n",
    "plt.plot(pred)"
   ]
  },
  {
   "cell_type": "code",
   "execution_count": 9,
   "metadata": {},
   "outputs": [],
   "source": [
    "import pickle\n",
    "\n",
    "clf.fit(X, y)\n",
    "\n",
    "with open('model.pkl', 'wb') as f:\n",
    "    pickle.dump(clf, f)"
   ]
  },
  {
   "cell_type": "code",
   "execution_count": 10,
   "metadata": {},
   "outputs": [
    {
     "data": {
      "text/plain": [
       "(2, 3)"
      ]
     },
     "execution_count": 10,
     "metadata": {},
     "output_type": "execute_result"
    }
   ],
   "source": [
    "a = np.array([0,1,2])\n",
    "b = np.array([1,1,2])\n",
    "np.vstack([a,b]).shape"
   ]
  }
 ],
 "metadata": {
  "kernelspec": {
   "display_name": "devel",
   "language": "python",
   "name": "python3"
  },
  "language_info": {
   "codemirror_mode": {
    "name": "ipython",
    "version": 3
   },
   "file_extension": ".py",
   "mimetype": "text/x-python",
   "name": "python",
   "nbconvert_exporter": "python",
   "pygments_lexer": "ipython3",
   "version": "3.10.4"
  },
  "orig_nbformat": 4,
  "vscode": {
   "interpreter": {
    "hash": "1710dd2a33b7b750d7a9fbc509b7dd9ebb437a87a6951e030db25bc4cd5d9591"
   }
  }
 },
 "nbformat": 4,
 "nbformat_minor": 2
}
